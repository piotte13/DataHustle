{
 "cells": [
  {
   "cell_type": "markdown",
   "metadata": {},
   "source": [
    "# Imports"
   ]
  },
  {
   "cell_type": "code",
   "execution_count": 61,
   "metadata": {},
   "outputs": [],
   "source": [
    "import pandas as pd\n",
    "import numpy as np\n",
    "from sklearn.model_selection import train_test_split\n",
    "from sklearn.tree import DecisionTreeClassifier"
   ]
  },
  {
   "cell_type": "markdown",
   "metadata": {},
   "source": [
    "# Loading CSV"
   ]
  },
  {
   "cell_type": "code",
   "execution_count": 62,
   "metadata": {},
   "outputs": [
    {
     "data": {
      "text/html": [
       "<div>\n",
       "<style scoped>\n",
       "    .dataframe tbody tr th:only-of-type {\n",
       "        vertical-align: middle;\n",
       "    }\n",
       "\n",
       "    .dataframe tbody tr th {\n",
       "        vertical-align: top;\n",
       "    }\n",
       "\n",
       "    .dataframe thead th {\n",
       "        text-align: right;\n",
       "    }\n",
       "</style>\n",
       "<table border=\"1\" class=\"dataframe\">\n",
       "  <thead>\n",
       "    <tr style=\"text-align: right;\">\n",
       "      <th></th>\n",
       "      <th>range</th>\n",
       "      <th>n1</th>\n",
       "      <th>average1</th>\n",
       "      <th>median1</th>\n",
       "      <th>std1</th>\n",
       "      <th>n2</th>\n",
       "      <th>average2</th>\n",
       "      <th>median2</th>\n",
       "      <th>std2</th>\n",
       "      <th>skewed_1</th>\n",
       "      <th>skewed_2</th>\n",
       "      <th>non_skewed</th>\n",
       "      <th>vector</th>\n",
       "    </tr>\n",
       "  </thead>\n",
       "  <tbody>\n",
       "    <tr>\n",
       "      <th>0</th>\n",
       "      <td>65534.0</td>\n",
       "      <td>138082</td>\n",
       "      <td>19304.207898</td>\n",
       "      <td>9964.5</td>\n",
       "      <td>21656.224203</td>\n",
       "      <td>9764</td>\n",
       "      <td>19255.718968</td>\n",
       "      <td>9477.5</td>\n",
       "      <td>21718.702149</td>\n",
       "      <td>28717</td>\n",
       "      <td>43852</td>\n",
       "      <td>33742</td>\n",
       "      <td>5799</td>\n",
       "    </tr>\n",
       "    <tr>\n",
       "      <th>1</th>\n",
       "      <td>65534.0</td>\n",
       "      <td>138082</td>\n",
       "      <td>19304.207898</td>\n",
       "      <td>9964.5</td>\n",
       "      <td>21656.224203</td>\n",
       "      <td>3172</td>\n",
       "      <td>19030.790038</td>\n",
       "      <td>9721.5</td>\n",
       "      <td>21432.550738</td>\n",
       "      <td>16931</td>\n",
       "      <td>18436</td>\n",
       "      <td>19497</td>\n",
       "      <td>23673</td>\n",
       "    </tr>\n",
       "    <tr>\n",
       "      <th>2</th>\n",
       "      <td>65534.0</td>\n",
       "      <td>138082</td>\n",
       "      <td>19304.207898</td>\n",
       "      <td>9964.5</td>\n",
       "      <td>21656.224203</td>\n",
       "      <td>1211</td>\n",
       "      <td>19819.103220</td>\n",
       "      <td>11760.0</td>\n",
       "      <td>21898.387371</td>\n",
       "      <td>14170</td>\n",
       "      <td>9127</td>\n",
       "      <td>44423</td>\n",
       "      <td>3539</td>\n",
       "    </tr>\n",
       "    <tr>\n",
       "      <th>3</th>\n",
       "      <td>65534.0</td>\n",
       "      <td>138082</td>\n",
       "      <td>19304.207898</td>\n",
       "      <td>9964.5</td>\n",
       "      <td>21656.224203</td>\n",
       "      <td>3376</td>\n",
       "      <td>19271.502073</td>\n",
       "      <td>10493.5</td>\n",
       "      <td>21614.362552</td>\n",
       "      <td>17498</td>\n",
       "      <td>19000</td>\n",
       "      <td>20052</td>\n",
       "      <td>4120</td>\n",
       "    </tr>\n",
       "    <tr>\n",
       "      <th>4</th>\n",
       "      <td>65534.0</td>\n",
       "      <td>138082</td>\n",
       "      <td>19304.207898</td>\n",
       "      <td>9964.5</td>\n",
       "      <td>21656.224203</td>\n",
       "      <td>3421</td>\n",
       "      <td>19514.070447</td>\n",
       "      <td>10119.0</td>\n",
       "      <td>21945.366501</td>\n",
       "      <td>17564</td>\n",
       "      <td>19549</td>\n",
       "      <td>20429</td>\n",
       "      <td>4132</td>\n",
       "    </tr>\n",
       "  </tbody>\n",
       "</table>\n",
       "</div>"
      ],
      "text/plain": [
       "     range      n1      average1  median1          std1    n2      average2  \\\n",
       "0  65534.0  138082  19304.207898   9964.5  21656.224203  9764  19255.718968   \n",
       "1  65534.0  138082  19304.207898   9964.5  21656.224203  3172  19030.790038   \n",
       "2  65534.0  138082  19304.207898   9964.5  21656.224203  1211  19819.103220   \n",
       "3  65534.0  138082  19304.207898   9964.5  21656.224203  3376  19271.502073   \n",
       "4  65534.0  138082  19304.207898   9964.5  21656.224203  3421  19514.070447   \n",
       "\n",
       "   median2          std2  skewed_1  skewed_2  non_skewed  vector  \n",
       "0   9477.5  21718.702149     28717     43852       33742    5799  \n",
       "1   9721.5  21432.550738     16931     18436       19497   23673  \n",
       "2  11760.0  21898.387371     14170      9127       44423    3539  \n",
       "3  10493.5  21614.362552     17498     19000       20052    4120  \n",
       "4  10119.0  21945.366501     17564     19549       20429    4132  "
      ]
     },
     "execution_count": 62,
     "metadata": {},
     "output_type": "execute_result"
    }
   ],
   "source": [
    "dataset = pd.read_csv('Results/Intersect_card_dataset.csv')\n",
    "dataset.columns = dataset.columns.str.strip()\n",
    "dataset.head()"
   ]
  },
  {
   "cell_type": "markdown",
   "metadata": {},
   "source": [
    "# Building Dataset"
   ]
  },
  {
   "cell_type": "code",
   "execution_count": 63,
   "metadata": {},
   "outputs": [],
   "source": [
    "feature_cols = ['range', 'n1', 'n2']"
   ]
  },
  {
   "cell_type": "code",
   "execution_count": 64,
   "metadata": {},
   "outputs": [
    {
     "data": {
      "text/plain": [
       "(39601, 3)"
      ]
     },
     "execution_count": 64,
     "metadata": {},
     "output_type": "execute_result"
    }
   ],
   "source": [
    "X = dataset.loc[:, feature_cols]\n",
    "X = X.values\n",
    "X.shape"
   ]
  },
  {
   "cell_type": "code",
   "execution_count": 65,
   "metadata": {},
   "outputs": [
    {
     "data": {
      "text/plain": [
       "(39601,)"
      ]
     },
     "execution_count": 65,
     "metadata": {},
     "output_type": "execute_result"
    }
   ],
   "source": [
    "algos = ['skewed_1', 'skewed_2', 'non_skewed']\n",
    "ys = []\n",
    "for algo in algos:\n",
    "    y = dataset.loc[:, algo]\n",
    "    ys.append(y)\n",
    "y.shape"
   ]
  },
  {
   "cell_type": "code",
   "execution_count": 88,
   "metadata": {},
   "outputs": [],
   "source": [
    "def getClassificationY():\n",
    "    cy = []\n",
    "    cyTimes = []\n",
    "    for i in range(len(ys[0])):\n",
    "        minVal = float(\"inf\")\n",
    "        minName = \"\"\n",
    "        for j, y in enumerate(ys):\n",
    "            if (minVal > y[i]):\n",
    "                minVal = y[i]\n",
    "                minName = algos[j]\n",
    "        cy.append(minName)\n",
    "        cyTimes.append(minVal)\n",
    "    cy = np.array(cy)\n",
    "    return cy, cyTimes"
   ]
  },
  {
   "cell_type": "code",
   "execution_count": 90,
   "metadata": {},
   "outputs": [
    {
     "data": {
      "text/plain": [
       "(39601,)"
      ]
     },
     "execution_count": 90,
     "metadata": {},
     "output_type": "execute_result"
    }
   ],
   "source": [
    "# cy, cyTimes = getClassificationY()\n",
    "# cy.shape"
   ]
  },
  {
   "cell_type": "code",
   "execution_count": 67,
   "metadata": {},
   "outputs": [],
   "source": [
    "def getBenchmarkSet():\n",
    "    benchmarkSet = X.tolist()\n",
    "    for index, attributes in enumerate(benchmarkSet):\n",
    "        for times in ys:\n",
    "            attributes.append(times[index])\n",
    "        attributes.append(cyTimes[index])\n",
    "        attributes.append(cy[index])\n",
    "    return np.array(benchmarkSet)"
   ]
  },
  {
   "cell_type": "code",
   "execution_count": 68,
   "metadata": {},
   "outputs": [
    {
     "data": {
      "text/plain": [
       "(39601, 8)"
      ]
     },
     "execution_count": 68,
     "metadata": {},
     "output_type": "execute_result"
    }
   ],
   "source": [
    "benchmarkSet = getBenchmarkSet()\n",
    "benchmarkSet.shape"
   ]
  },
  {
   "cell_type": "code",
   "execution_count": 69,
   "metadata": {},
   "outputs": [],
   "source": [
    "def clfSplit():\n",
    "    return train_test_split(X, cy, test_size=0.2, random_state=0)"
   ]
  },
  {
   "cell_type": "markdown",
   "metadata": {},
   "source": [
    "# Calculating value of the project"
   ]
  },
  {
   "cell_type": "code",
   "execution_count": 70,
   "metadata": {},
   "outputs": [],
   "source": [
    "def percentChange(new, old):\n",
    "    return ((float(old)/new)-1)"
   ]
  },
  {
   "cell_type": "code",
   "execution_count": 71,
   "metadata": {},
   "outputs": [],
   "source": [
    "def getAlgoTime(algoName, row):\n",
    "    for index, algo in enumerate(algos):\n",
    "        if(algoName == algo):\n",
    "            return int(row[len(X[0]) + index])\n",
    "    print('oups none of the available algos')"
   ]
  },
  {
   "cell_type": "code",
   "execution_count": 72,
   "metadata": {},
   "outputs": [],
   "source": [
    "def getOldSchoolAlgo(n1, n2):\n",
    "    threshold = 64\n",
    "    n1 = float(n1)\n",
    "    n2 = float(n2)\n",
    "    if (n1 * threshold < n2):\n",
    "        return 'skewed_1'\n",
    "    if (n2 * threshold < n1):\n",
    "        return 'skewed_2'\n",
    "    return 'non_skewed'"
   ]
  },
  {
   "cell_type": "code",
   "execution_count": 85,
   "metadata": {},
   "outputs": [],
   "source": [
    "def calculateValueOfML():\n",
    "    X_train, X_test, y_train, y_test = train_test_split(benchmarkSet, benchmarkSet, test_size=0.3, random_state=0)\n",
    "    \n",
    "    clf = DecisionTreeClassifier(max_depth=None, random_state=0)\n",
    "    clf.fit(X_train[:, 0:len(X[0])], y_train[:,-1])\n",
    "\n",
    "    mlChosenAlgos = clf.predict(X_test[:, 0:len(X[0])])\n",
    "\n",
    "    GoodPredictionsCount = 0\n",
    "    mlTotTime = 0\n",
    "    osTotTime = 0\n",
    "    perfectTotTime = 0\n",
    "    for i, algo in enumerate(mlChosenAlgos):\n",
    "        if(algo == y_test[i,-1]):\n",
    "            GoodPredictionsCount += 1\n",
    "        mlTotTime += getAlgoTime(algo, y_test[i])\n",
    "        n1 = y_test[i,feature_cols.index('n1')]\n",
    "        n2 = y_test[i,feature_cols.index('n2')]\n",
    "        osAlgo = getOldSchoolAlgo(n1 , n2)\n",
    "        #print(osAlgo)\n",
    "        osTotTime += getAlgoTime(osAlgo, y_test[i])\n",
    "        perfectTotTime += int(y_test[i,-2])\n",
    "\n",
    "\n",
    "    print(\"Average classification precision: %.2f\" % (float(GoodPredictionsCount)/len(mlChosenAlgos)))\n",
    "    print(\"Total ml time: %d\" % mlTotTime)\n",
    "    print(\"Total old school time: %d\" % osTotTime)\n",
    "    print(\"Machine learning is faster by : %.2f\" % percentChange(mlTotTime, osTotTime))\n",
    "    print(\"With perfect prediction : %.2f\" % percentChange(perfectTotTime, osTotTime))"
   ]
  },
  {
   "cell_type": "code",
   "execution_count": 86,
   "metadata": {
    "scrolled": true
   },
   "outputs": [
    {
     "name": "stdout",
     "output_type": "stream",
     "text": [
      "Average classification precision: 0.84\n",
      "Total ml time: 281515200\n",
      "Total old school time: 453854075\n",
      "Machine learning is faster by : 0.61\n",
      "With perfect prediction : 0.64\n"
     ]
    }
   ],
   "source": [
    "calculateValueOfML()"
   ]
  },
  {
   "cell_type": "markdown",
   "metadata": {},
   "source": [
    "# Serialize model"
   ]
  },
  {
   "cell_type": "code",
   "execution_count": null,
   "metadata": {},
   "outputs": [],
   "source": [
    "# from sklearn.externals import joblib\n",
    "\n",
    "# clf = DecisionTreeClassifier(max_depth=None, random_state=0)\n",
    "# clf.fit(X, cy)\n",
    "# joblib.dump(clf, '.joblib')"
   ]
  },
  {
   "cell_type": "code",
   "execution_count": null,
   "metadata": {},
   "outputs": [],
   "source": []
  }
 ],
 "metadata": {
  "kernelspec": {
   "display_name": "Python 2",
   "language": "python",
   "name": "python2"
  },
  "language_info": {
   "codemirror_mode": {
    "name": "ipython",
    "version": 2
   },
   "file_extension": ".py",
   "mimetype": "text/x-python",
   "name": "python",
   "nbconvert_exporter": "python",
   "pygments_lexer": "ipython2",
   "version": "2.7.15"
  }
 },
 "nbformat": 4,
 "nbformat_minor": 2
}
